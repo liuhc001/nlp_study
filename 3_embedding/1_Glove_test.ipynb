{
 "cells": [
  {
   "cell_type": "code",
   "execution_count": 28,
   "metadata": {},
   "outputs": [],
   "source": [
    "from gensim.test.utils import datapath, get_tmpfile\n",
    "from gensim.models import KeyedVectors\n",
    "# 输入文件\n",
    "glove_file = datapath('/home/lhc/Documents/3_doc/1_AI/1.5_proj/self_git/tools/GloVe-1.2/vectors.txt')\n",
    "# 输出文件\n",
    "tmp_file = get_tmpfile(\"word2vec_tmp.txt\")\n",
    "\n",
    "# call glove2word2vec script\n",
    "# default way (through CLI): python -m gensim.scripts.glove2word2vec --input <glove_file> --output <w2v_file>\n",
    "\n",
    "# 开始转换\n",
    "from gensim.scripts.glove2word2vec import glove2word2vec\n",
    "glove2word2vec(glove_file, tmp_file)\n",
    "\n",
    "# 加载转化后的文件\n",
    "model = KeyedVectors.load_word2vec_format(tmp_file)"
   ]
  },
  {
   "cell_type": "code",
   "execution_count": 37,
   "metadata": {},
   "outputs": [
    {
     "data": {
      "text/plain": [
       "[('不意', 0.9161863923072815),\n",
       " ('人命', 0.9088807702064514),\n",
       " ('耗', 0.8728349804878235),\n",
       " ('倚', 0.8658139705657959),\n",
       " ('痊愈', 0.8645268082618713),\n",
       " ('八十', 0.8532874584197998),\n",
       " ('重手', 0.8407717347145081),\n",
       " ('载', 0.8382527828216553),\n",
       " ('患', 0.8363725543022156),\n",
       " ('半日', 0.8345324993133545)]"
      ]
     },
     "execution_count": 37,
     "metadata": {},
     "output_type": "execute_result"
    }
   ],
   "source": [
    "model.most_similar(['雨'])"
   ]
  },
  {
   "cell_type": "code",
   "execution_count": 7,
   "metadata": {},
   "outputs": [
    {
     "data": {
      "text/plain": [
       "\u001b[0;31mSignature:\u001b[0m \u001b[0mmodel\u001b[0m\u001b[0;34m.\u001b[0m\u001b[0mcosine_similarities\u001b[0m\u001b[0;34m(\u001b[0m\u001b[0mvector_1\u001b[0m\u001b[0;34m,\u001b[0m \u001b[0mvectors_all\u001b[0m\u001b[0;34m)\u001b[0m\u001b[0;34m\u001b[0m\u001b[0;34m\u001b[0m\u001b[0m\n",
       "\u001b[0;31mDocstring:\u001b[0m\n",
       "Compute cosine similarities between one vector and a set of other vectors.\n",
       "\n",
       "Parameters\n",
       "----------\n",
       "vector_1 : numpy.ndarray\n",
       "    Vector from which similarities are to be computed, expected shape (dim,).\n",
       "vectors_all : numpy.ndarray\n",
       "    For each row in vectors_all, distance from vector_1 is computed, expected shape (num_vectors, dim).\n",
       "\n",
       "Returns\n",
       "-------\n",
       "numpy.ndarray\n",
       "    Contains cosine distance between `vector_1` and each row in `vectors_all`, shape (num_vectors,).\n",
       "\u001b[0;31mFile:\u001b[0m      ~/Documents/env2/lib/python3.6/site-packages/gensim/models/keyedvectors.py\n",
       "\u001b[0;31mType:\u001b[0m      function\n"
      ]
     },
     "metadata": {},
     "output_type": "display_data"
    }
   ],
   "source": [
    "model.cosine_similarities?"
   ]
  }
 ],
 "metadata": {
  "kernelspec": {
   "display_name": "Python 3",
   "language": "python",
   "name": "python3"
  },
  "language_info": {
   "codemirror_mode": {
    "name": "ipython",
    "version": 3
   },
   "file_extension": ".py",
   "mimetype": "text/x-python",
   "name": "python",
   "nbconvert_exporter": "python",
   "pygments_lexer": "ipython3",
   "version": "3.6.7"
  }
 },
 "nbformat": 4,
 "nbformat_minor": 4
}
